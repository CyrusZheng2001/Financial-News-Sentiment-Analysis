{
 "cells": [
  {
   "cell_type": "code",
   "execution_count": 1,
   "metadata": {},
   "outputs": [
    {
     "name": "stderr",
     "output_type": "stream",
     "text": [
      "Using TensorFlow backend.\n"
     ]
    }
   ],
   "source": [
    "import pandas as pd\n",
    "import numpy as np\n",
    "from tqdm import tqdm\n",
    "from keras.preprocessing.text import Tokenizer\n",
    "tqdm.pandas(desc=\"progress-bar\")\n",
    "from gensim.models import Doc2Vec\n",
    "from sklearn import utils\n",
    "from sklearn.model_selection import train_test_split\n",
    "from keras.preprocessing.sequence import pad_sequences\n",
    "import gensim\n",
    "from sklearn.linear_model import LogisticRegression\n",
    "from gensim.models.doc2vec import TaggedDocument\n",
    "import re\n",
    "import seaborn as sns\n",
    "import matplotlib.pyplot as plt"
   ]
  },
  {
   "cell_type": "code",
   "execution_count": 2,
   "metadata": {},
   "outputs": [],
   "source": [
    "train_original = pd.read_csv('all-data.csv',delimiter=',',encoding='latin-1',header=None)\n",
    "test_original = pd.read_csv('titles_yahoo_financial_616.csv',encoding='UTF-8')"
   ]
  },
  {
   "cell_type": "code",
   "execution_count": 3,
   "metadata": {},
   "outputs": [],
   "source": [
    "train_original.columns = ['Sentiment','News Titles']"
   ]
  },
  {
   "cell_type": "code",
   "execution_count": 4,
   "metadata": {},
   "outputs": [
    {
     "data": {
      "text/html": [
       "<div>\n",
       "<style scoped>\n",
       "    .dataframe tbody tr th:only-of-type {\n",
       "        vertical-align: middle;\n",
       "    }\n",
       "\n",
       "    .dataframe tbody tr th {\n",
       "        vertical-align: top;\n",
       "    }\n",
       "\n",
       "    .dataframe thead th {\n",
       "        text-align: right;\n",
       "    }\n",
       "</style>\n",
       "<table border=\"1\" class=\"dataframe\">\n",
       "  <thead>\n",
       "    <tr style=\"text-align: right;\">\n",
       "      <th></th>\n",
       "      <th>Sentiment</th>\n",
       "      <th>News Titles</th>\n",
       "    </tr>\n",
       "  </thead>\n",
       "  <tbody>\n",
       "    <tr>\n",
       "      <th>0</th>\n",
       "      <td>neutral</td>\n",
       "      <td>According to Gran , the company has no plans t...</td>\n",
       "    </tr>\n",
       "    <tr>\n",
       "      <th>1</th>\n",
       "      <td>neutral</td>\n",
       "      <td>Technopolis plans to develop in stages an area...</td>\n",
       "    </tr>\n",
       "    <tr>\n",
       "      <th>2</th>\n",
       "      <td>negative</td>\n",
       "      <td>The international electronic industry company ...</td>\n",
       "    </tr>\n",
       "    <tr>\n",
       "      <th>3</th>\n",
       "      <td>positive</td>\n",
       "      <td>With the new production plant the company woul...</td>\n",
       "    </tr>\n",
       "    <tr>\n",
       "      <th>4</th>\n",
       "      <td>positive</td>\n",
       "      <td>According to the company 's updated strategy f...</td>\n",
       "    </tr>\n",
       "    <tr>\n",
       "      <th>...</th>\n",
       "      <td>...</td>\n",
       "      <td>...</td>\n",
       "    </tr>\n",
       "    <tr>\n",
       "      <th>4841</th>\n",
       "      <td>negative</td>\n",
       "      <td>LONDON MarketWatch -- Share prices ended lower...</td>\n",
       "    </tr>\n",
       "    <tr>\n",
       "      <th>4842</th>\n",
       "      <td>neutral</td>\n",
       "      <td>Rinkuskiai 's beer sales fell by 6.5 per cent ...</td>\n",
       "    </tr>\n",
       "    <tr>\n",
       "      <th>4843</th>\n",
       "      <td>negative</td>\n",
       "      <td>Operating profit fell to EUR 35.4 mn from EUR ...</td>\n",
       "    </tr>\n",
       "    <tr>\n",
       "      <th>4844</th>\n",
       "      <td>negative</td>\n",
       "      <td>Net sales of the Paper segment decreased to EU...</td>\n",
       "    </tr>\n",
       "    <tr>\n",
       "      <th>4845</th>\n",
       "      <td>negative</td>\n",
       "      <td>Sales in Finland decreased by 10.5 % in Januar...</td>\n",
       "    </tr>\n",
       "  </tbody>\n",
       "</table>\n",
       "<p>4846 rows × 2 columns</p>\n",
       "</div>"
      ],
      "text/plain": [
       "     Sentiment                                        News Titles\n",
       "0      neutral  According to Gran , the company has no plans t...\n",
       "1      neutral  Technopolis plans to develop in stages an area...\n",
       "2     negative  The international electronic industry company ...\n",
       "3     positive  With the new production plant the company woul...\n",
       "4     positive  According to the company 's updated strategy f...\n",
       "...        ...                                                ...\n",
       "4841  negative  LONDON MarketWatch -- Share prices ended lower...\n",
       "4842   neutral  Rinkuskiai 's beer sales fell by 6.5 per cent ...\n",
       "4843  negative  Operating profit fell to EUR 35.4 mn from EUR ...\n",
       "4844  negative  Net sales of the Paper segment decreased to EU...\n",
       "4845  negative  Sales in Finland decreased by 10.5 % in Januar...\n",
       "\n",
       "[4846 rows x 2 columns]"
      ]
     },
     "execution_count": 4,
     "metadata": {},
     "output_type": "execute_result"
    }
   ],
   "source": [
    "train_original"
   ]
  },
  {
   "cell_type": "markdown",
   "metadata": {},
   "source": [
    "## Visualization"
   ]
  },
  {
   "cell_type": "code",
   "execution_count": 5,
   "metadata": {},
   "outputs": [
    {
     "data": {
      "text/plain": [
       "111989"
      ]
     },
     "execution_count": 5,
     "metadata": {},
     "output_type": "execute_result"
    }
   ],
   "source": [
    "train_original.index = range(4846)\n",
    "train_original['News Titles'].apply(lambda x: len(x.split(' '))).sum()"
   ]
  },
  {
   "cell_type": "code",
   "execution_count": 6,
   "metadata": {},
   "outputs": [
    {
     "name": "stderr",
     "output_type": "stream",
     "text": [
      "/opt/anaconda3/envs/python37/lib/python3.7/site-packages/seaborn/_decorators.py:43: FutureWarning: Pass the following variables as keyword args: x, y. From version 0.12, the only valid positional argument will be `data`, and passing other arguments without an explicit keyword will result in an error or misinterpretation.\n",
      "  FutureWarning\n"
     ]
    },
    {
     "data": {
      "image/png": "[encoded data removed]",
      "text/plain": [
       "<Figure size 864x288 with 1 Axes>"
      ]
     },
     "metadata": {
      "needs_background": "light"
     },
     "output_type": "display_data"
    }
   ],
   "source": [
    "cnt_pro = train_original['Sentiment'].value_counts()\n",
    "plt.figure(figsize=(12,4))\n",
    "sns.barplot(cnt_pro.index, cnt_pro.values, alpha=0.8)\n",
    "plt.ylabel('Number of Occurrences', fontsize=12)\n",
    "plt.xlabel('Sentiment', fontsize=12)\n",
    "plt.xticks(rotation=90)\n",
    "plt.show()"
   ]
  },
  {
   "cell_type": "code",
   "execution_count": 7,
   "metadata": {},
   "outputs": [],
   "source": [
    "sentiment  = {'positive': 0,'neutral': 1,'negative':2} \n",
    "train_original.Sentiment = [sentiment[item] for item in train_original.Sentiment]"
   ]
  },
  {
   "cell_type": "code",
   "execution_count": 8,
   "metadata": {},
   "outputs": [
    {
     "name": "stdout",
     "output_type": "stream",
     "text": [
      "The international electronic industry company Elcoteq has laid off tens of employees from its Tallinn facility ; contrary to earlier layoffs the company contracted the ranks of its office workers , the daily Postimees reported .\n",
      "Message: 2\n"
     ]
    }
   ],
   "source": [
    "def print_message(index):\n",
    "    example = train_original[train_original.index == index][['News Titles', 'Sentiment']].values[0]\n",
    "    if len(example) > 0:\n",
    "        print(example[0])\n",
    "        print('Message:', example[1])\n",
    "print_message(2)"
   ]
  },
  {
   "cell_type": "code",
   "execution_count": 9,
   "metadata": {},
   "outputs": [
    {
     "name": "stderr",
     "output_type": "stream",
     "text": [
      "/opt/anaconda3/envs/python37/lib/python3.7/site-packages/bs4/__init__.py:439: MarkupResemblesLocatorWarning: The input looks more like a filename than markup. You may want to open this file and pass the filehandle into Beautiful Soup.\n",
      "  MarkupResemblesLocatorWarning\n"
     ]
    }
   ],
   "source": [
    "from bs4 import BeautifulSoup\n",
    "def cleanText(text):\n",
    "    text = BeautifulSoup(text, \"lxml\").text\n",
    "    text = re.sub(r'\\|\\|\\|', r' ', text) \n",
    "    text = re.sub(r'http\\S+', r'<URL>', text)\n",
    "    text = text.lower()\n",
    "    text = text.replace('x', '')\n",
    "    return text\n",
    "train_original['News Titles'] = train_original['News Titles'].apply(cleanText)"
   ]
  },
  {
   "cell_type": "code",
   "execution_count": 10,
   "metadata": {},
   "outputs": [
    {
     "name": "stdout",
     "output_type": "stream",
     "text": [
      "Found 4846 unique tokens.\n"
     ]
    }
   ],
   "source": [
    "# train, test = train_test_split(train_original, test_size=0.01 , random_state=42)\n",
    "import nltk\n",
    "from nltk.corpus import stopwords\n",
    "\n",
    "def tokenize_text(text):\n",
    "    tokens = []\n",
    "    for sent in nltk.sent_tokenize(text):\n",
    "        for word in nltk.word_tokenize(sent):\n",
    "            if len(word) <= 0:\n",
    "                continue\n",
    "            tokens.append(word.lower())\n",
    "    return tokens\n",
    "train_tagged = train_original.apply(\n",
    "    lambda r: TaggedDocument(words=tokenize_text(r['News Titles']), tags=[r.Sentiment]), axis=1)\n",
    "\n",
    "# The maximum number of words to be used\n",
    "max_fatures = 500000\n",
    "\n",
    "# Max number of words in each complaint\n",
    "MAX_SEQUENCE_LENGTH = 50\n",
    "\n",
    "#tokenizer = Tokenizer(num_words=max_fatures, split=' ')\n",
    "tokenizer = Tokenizer(num_words=max_fatures, split=' ', filters='!\"#$%&()*+,-./:;<=>?@[\\]^_`{|}~', lower=True)\n",
    "tokenizer.fit_on_texts(train_original['News Titles'].values)\n",
    "X = tokenizer.texts_to_sequences(train_original['News Titles'].values)\n",
    "X = pad_sequences(X)\n",
    "print('Found %s unique tokens.' % len(X))"
   ]
  },
  {
   "cell_type": "code",
   "execution_count": 11,
   "metadata": {},
   "outputs": [
    {
     "name": "stdout",
     "output_type": "stream",
     "text": [
      "Shape of data tensor: (4846, 50)\n"
     ]
    }
   ],
   "source": [
    "X = tokenizer.texts_to_sequences(train_original['News Titles'].values)\n",
    "X = pad_sequences(X, maxlen=MAX_SEQUENCE_LENGTH)\n",
    "print('Shape of data tensor:', X.shape)"
   ]
  },
  {
   "cell_type": "code",
   "execution_count": 12,
   "metadata": {},
   "outputs": [
    {
     "name": "stderr",
     "output_type": "stream",
     "text": [
      "/opt/anaconda3/envs/python37/lib/python3.7/site-packages/gensim/models/doc2vec.py:319: UserWarning: The parameter `size` is deprecated, will be removed in 4.0.0, use `vector_size` instead.\n",
      "  warnings.warn(\"The parameter `size` is deprecated, will be removed in 4.0.0, use `vector_size` instead.\")\n",
      "100%|██████████| 4846/4846 [00:00<00:00, 2085960.30it/s]\n"
     ]
    }
   ],
   "source": [
    "d2v_model = Doc2Vec(dm=1, dm_mean=1, size=20, window=8, min_count=1, workers=1, alpha=0.065, min_alpha=0.065)\n",
    "d2v_model.build_vocab([x for x in tqdm(train_tagged.values)])"
   ]
  },
  {
   "cell_type": "code",
   "execution_count": 13,
   "metadata": {},
   "outputs": [
    {
     "name": "stderr",
     "output_type": "stream",
     "text": [
      "100%|██████████| 4846/4846 [00:00<00:00, 2579390.51it/s]\n",
      "100%|██████████| 4846/4846 [00:00<00:00, 2748559.46it/s]\n",
      "100%|██████████| 4846/4846 [00:00<00:00, 2855520.82it/s]\n",
      "100%|██████████| 4846/4846 [00:00<00:00, 2832046.42it/s]\n",
      "100%|██████████| 4846/4846 [00:00<00:00, 2852315.07it/s]\n",
      "100%|██████████| 4846/4846 [00:00<00:00, 2835602.29it/s]\n",
      "100%|██████████| 4846/4846 [00:00<00:00, 2843536.26it/s]\n",
      "100%|██████████| 4846/4846 [00:00<00:00, 2878979.77it/s]\n",
      "100%|██████████| 4846/4846 [00:00<00:00, 2881020.15it/s]\n",
      "100%|██████████| 4846/4846 [00:00<00:00, 2915736.22it/s]\n",
      "100%|██████████| 4846/4846 [00:00<00:00, 2900342.06it/s]\n",
      "100%|██████████| 4846/4846 [00:00<00:00, 2191675.35it/s]\n",
      "100%|██████████| 4846/4846 [00:00<00:00, 2734875.83it/s]\n",
      "100%|██████████| 4846/4846 [00:00<00:00, 2794664.81it/s]\n",
      "100%|██████████| 4846/4846 [00:00<00:00, 2835602.29it/s]\n",
      "100%|██████████| 4846/4846 [00:00<00:00, 2758257.18it/s]\n",
      "100%|██████████| 4846/4846 [00:00<00:00, 2708996.03it/s]\n",
      "100%|██████████| 4846/4846 [00:00<00:00, 2712973.46it/s]\n",
      "100%|██████████| 4846/4846 [00:00<00:00, 2808954.83it/s]\n",
      "100%|██████████| 4846/4846 [00:00<00:00, 2825746.86it/s]\n",
      "100%|██████████| 4846/4846 [00:00<00:00, 2784709.85it/s]\n",
      "100%|██████████| 4846/4846 [00:00<00:00, 2730467.11it/s]\n",
      "100%|██████████| 4846/4846 [00:00<00:00, 2833625.71it/s]\n",
      "100%|██████████| 4846/4846 [00:00<00:00, 2767646.68it/s]\n",
      "100%|██████████| 4846/4846 [00:00<00:00, 2656940.81it/s]\n",
      "100%|██████████| 4846/4846 [00:00<00:00, 2798127.37it/s]\n",
      "100%|██████████| 4846/4846 [00:00<00:00, 2800826.40it/s]\n",
      "100%|██████████| 4846/4846 [00:00<00:00, 2718052.58it/s]\n",
      "100%|██████████| 4846/4846 [00:00<00:00, 2670555.40it/s]\n",
      "100%|██████████| 4846/4846 [00:00<00:00, 2798127.37it/s]\n"
     ]
    }
   ],
   "source": [
    "for epoch in range(30):\n",
    "    d2v_model.train(utils.shuffle([x for x in tqdm(train_tagged.values)]), total_examples=len(train_tagged.values), epochs=1)\n",
    "    d2v_model.alpha -= 0.002\n",
    "    d2v_model.min_alpha = d2v_model.alpha"
   ]
  },
  {
   "cell_type": "code",
   "execution_count": 14,
   "metadata": {},
   "outputs": [
    {
     "name": "stdout",
     "output_type": "stream",
     "text": [
      "Doc2Vec(dm/m,d20,n5,w8,s0.001)\n"
     ]
    }
   ],
   "source": [
    "print(d2v_model)"
   ]
  },
  {
   "cell_type": "code",
   "execution_count": 15,
   "metadata": {},
   "outputs": [
    {
     "data": {
      "text/plain": [
       "11683"
      ]
     },
     "execution_count": 15,
     "metadata": {},
     "output_type": "execute_result"
    }
   ],
   "source": [
    "len(d2v_model.wv.vocab)"
   ]
  },
  {
   "cell_type": "code",
   "execution_count": 16,
   "metadata": {},
   "outputs": [],
   "source": [
    "# save the vectors in a new matrix\n",
    "embedding_matrix = np.zeros((len(d2v_model.wv.vocab)+ 1, 20))\n",
    "\n",
    "for i, vec in enumerate(d2v_model.docvecs.vectors_docs):\n",
    "    while i in vec <= 1000:\n",
    "    #print(i)\n",
    "    #print(model.docvecs)\n",
    "          embedding_matrix[i]=vec\n",
    "    #print(vec)\n",
    "    #print(vec[i])"
   ]
  },
  {
   "cell_type": "code",
   "execution_count": 17,
   "metadata": {},
   "outputs": [
    {
     "data": {
      "text/plain": [
       "[('grievance', 0.770649254322052),\n",
       " ('op-pohjola', 0.7622226476669312),\n",
       " ('fund', 0.7547016739845276),\n",
       " ('verification', 0.7500354051589966),\n",
       " ('karhinen', 0.7335039973258972),\n",
       " ('wrt1v', 0.7330789566040039),\n",
       " ('organization', 0.7258241176605225),\n",
       " ('negotiated', 0.7166264057159424),\n",
       " ('property', 0.7142353057861328),\n",
       " ('annual', 0.7061365842819214)]"
      ]
     },
     "execution_count": 17,
     "metadata": {},
     "output_type": "execute_result"
    }
   ],
   "source": [
    "d2v_model.wv.most_similar(positive=['investment'], topn=10)"
   ]
  },
  {
   "cell_type": "code",
   "execution_count": 84,
   "metadata": {},
   "outputs": [],
   "source": [
    "# from sklearn.manifold import TSNE\n",
    "# import matplotlib.pyplot as plt\n",
    "# %matplotlib inline\n",
    "\n",
    "# def tsne_plot(model):\n",
    "#     \"Creates and TSNE model and plots it\"\n",
    "#     labels = []\n",
    "#     tokens = []\n",
    "\n",
    "#     for word in d2v_model.wv.vocab:\n",
    "#         tokens.append(model[word])\n",
    "#         labels.append(word)\n",
    "    \n",
    "#     tsne_model = TSNE(perplexity=40, n_components=2, init='pca', n_iter=250, random_state=23)\n",
    "#     new_values = tsne_model.fit_transform(tokens)\n",
    "\n",
    "#     x = []\n",
    "#     y = []\n",
    "#     for value in new_values:\n",
    "#         x.append(value[0])\n",
    "#         y.append(value[1])\n",
    "        \n",
    "#     plt.figure(figsize=(16, 16)) \n",
    "#     for i in range(len(x)):\n",
    "#         plt.scatter(x[i],y[i])\n",
    "#         plt.annotate(labels[i],\n",
    "#                      xy=(x[i], y[i]),\n",
    "#                      xytext=(5, 2),\n",
    "#                      textcoords='offset points',\n",
    "#                      ha='right',\n",
    "#                      va='bottom')\n",
    "#     plt.show()"
   ]
  },
  {
   "cell_type": "code",
   "execution_count": 85,
   "metadata": {},
   "outputs": [],
   "source": [
    "# tsne_plot(d2v_model)"
   ]
  },
  {
   "cell_type": "code",
   "execution_count": 18,
   "metadata": {},
   "outputs": [
    {
     "name": "stderr",
     "output_type": "stream",
     "text": [
      "2024-05-05 20:35:16.442700: I tensorflow/core/platform/cpu_feature_guard.cc:145] This TensorFlow binary is optimized with Intel(R) MKL-DNN to use the following CPU instructions in performance critical operations:  SSE4.1 SSE4.2\n",
      "To enable them in non-MKL-DNN operations, rebuild TensorFlow with the appropriate compiler flags.\n",
      "2024-05-05 20:35:16.444503: I tensorflow/core/common_runtime/process_util.cc:115] Creating new thread pool with default inter op setting: 8. Tune using inter_op_parallelism_threads for best performance.\n"
     ]
    },
    {
     "name": "stdout",
     "output_type": "stream",
     "text": [
      "Model: \"sequential_1\"\n",
      "_________________________________________________________________\n",
      "Layer (type)                 Output Shape              Param #   \n",
      "=================================================================\n",
      "embedding_1 (Embedding)      (None, 50, 20)            233680    \n",
      "_________________________________________________________________\n",
      "lstm_1 (LSTM)                (None, 50)                14200     \n",
      "_________________________________________________________________\n",
      "dense_1 (Dense)              (None, 3)                 153       \n",
      "=================================================================\n",
      "Total params: 248,033\n",
      "Trainable params: 248,033\n",
      "Non-trainable params: 0\n",
      "_________________________________________________________________\n"
     ]
    }
   ],
   "source": [
    "from keras.models import Sequential\n",
    "from keras.layers import LSTM, Dense, Embedding\n",
    "\n",
    "\n",
    "# init layer\n",
    "model = Sequential()\n",
    "\n",
    "# emmbed word vectors\n",
    "model.add(Embedding(len(d2v_model.wv.vocab)+1,20,input_length=X.shape[1],weights=[embedding_matrix],trainable=True))\n",
    "\n",
    "# learn the correlations\n",
    "def split_input(sequence):\n",
    "     return sequence[:-1], tf.reshape(sequence[1:], (-1,1))\n",
    "model.add(LSTM(50,return_sequences=False))\n",
    "model.add(Dense(3,activation=\"softmax\"))\n",
    "\n",
    "# output model skeleton\n",
    "model.summary()\n",
    "model.compile(optimizer=\"adam\",loss=\"binary_crossentropy\",metrics=['acc'])"
   ]
  },
  {
   "cell_type": "code",
   "execution_count": 19,
   "metadata": {},
   "outputs": [
    {
     "name": "stdout",
     "output_type": "stream",
     "text": [
      "(4846, 50) (4846, 3)\n"
     ]
    }
   ],
   "source": [
    "Y = pd.get_dummies(train_original['Sentiment']).values\n",
    "# X_train, X_test, Y_train, Y_test = train_test_split(X,Y, test_size = 0.15, random_state = 42)\n",
    "print(X.shape,Y.shape)\n",
    "# print(X_test.shape,Y_test.shape)"
   ]
  },
  {
   "cell_type": "code",
   "execution_count": 20,
   "metadata": {},
   "outputs": [
    {
     "name": "stderr",
     "output_type": "stream",
     "text": [
      "/opt/anaconda3/envs/python37/lib/python3.7/site-packages/tensorflow_core/python/framework/indexed_slices.py:424: UserWarning: Converting sparse IndexedSlices to a dense Tensor of unknown shape. This may consume a large amount of memory.\n",
      "  \"Converting sparse IndexedSlices to a dense Tensor of unknown shape. \"\n"
     ]
    },
    {
     "name": "stdout",
     "output_type": "stream",
     "text": [
      "Epoch 1/50\n",
      " - 32s - loss: 0.5083 - acc: 0.7548\n",
      "Epoch 2/50\n",
      " - 28s - loss: 0.3675 - acc: 0.8271\n",
      "Epoch 3/50\n",
      " - 31s - loss: 0.2374 - acc: 0.8974\n",
      "Epoch 4/50\n",
      " - 31s - loss: 0.1282 - acc: 0.9547\n",
      "Epoch 5/50\n",
      " - 29s - loss: 0.0781 - acc: 0.9754\n",
      "Epoch 6/50\n",
      " - 27s - loss: 0.0537 - acc: 0.9840\n",
      "Epoch 7/50\n",
      " - 30s - loss: 0.0582 - acc: 0.9809\n",
      "Epoch 8/50\n",
      " - 35s - loss: 0.0356 - acc: 0.9890\n",
      "Epoch 9/50\n",
      " - 30s - loss: 0.0307 - acc: 0.9902\n",
      "Epoch 10/50\n",
      " - 33s - loss: 0.0227 - acc: 0.9940\n",
      "Epoch 11/50\n",
      " - 31s - loss: 0.0193 - acc: 0.9946\n",
      "Epoch 12/50\n",
      " - 33s - loss: 0.0204 - acc: 0.9948\n",
      "Epoch 13/50\n",
      " - 29s - loss: 0.0165 - acc: 0.9956\n",
      "Epoch 14/50\n",
      " - 31s - loss: 0.0150 - acc: 0.9952\n",
      "Epoch 15/50\n",
      " - 27s - loss: 0.0152 - acc: 0.9950\n",
      "Epoch 16/50\n",
      " - 26s - loss: 0.0105 - acc: 0.9972\n",
      "Epoch 17/50\n",
      " - 29s - loss: 0.0095 - acc: 0.9975\n",
      "Epoch 18/50\n",
      " - 30s - loss: 0.0089 - acc: 0.9973\n",
      "Epoch 19/50\n",
      " - 29s - loss: 0.0098 - acc: 0.9972\n",
      "Epoch 20/50\n",
      " - 29s - loss: 0.0091 - acc: 0.9977\n",
      "Epoch 21/50\n",
      " - 33s - loss: 0.0077 - acc: 0.9975\n",
      "Epoch 22/50\n",
      " - 31s - loss: 0.0101 - acc: 0.9970\n",
      "Epoch 23/50\n",
      " - 33s - loss: 0.0078 - acc: 0.9975\n",
      "Epoch 24/50\n",
      " - 32s - loss: 0.0086 - acc: 0.9977\n",
      "Epoch 25/50\n",
      " - 31s - loss: 0.0063 - acc: 0.9981\n",
      "Epoch 26/50\n",
      " - 34s - loss: 0.0043 - acc: 0.9984\n",
      "Epoch 27/50\n",
      " - 36s - loss: 0.0054 - acc: 0.9981\n",
      "Epoch 28/50\n",
      " - 33s - loss: 0.0049 - acc: 0.9984\n",
      "Epoch 29/50\n",
      " - 27s - loss: 0.0134 - acc: 0.9963\n",
      "Epoch 30/50\n",
      " - 34s - loss: 0.0119 - acc: 0.9960\n",
      "Epoch 31/50\n",
      " - 30s - loss: 0.0086 - acc: 0.9968\n",
      "Epoch 32/50\n",
      " - 32s - loss: 0.0080 - acc: 0.9965\n",
      "Epoch 33/50\n",
      " - 34s - loss: 0.0057 - acc: 0.9983\n",
      "Epoch 34/50\n",
      " - 32s - loss: 0.0064 - acc: 0.9975\n",
      "Epoch 35/50\n",
      " - 31s - loss: 0.0081 - acc: 0.9974\n",
      "Epoch 36/50\n",
      " - 29s - loss: 0.0081 - acc: 0.9971\n",
      "Epoch 37/50\n",
      " - 50s - loss: 0.0036 - acc: 0.9981\n",
      "Epoch 38/50\n",
      " - 31s - loss: 0.0024 - acc: 0.9988\n",
      "Epoch 39/50\n",
      " - 32s - loss: 0.0024 - acc: 0.9990\n",
      "Epoch 40/50\n",
      " - 35s - loss: 0.0025 - acc: 0.9986\n",
      "Epoch 41/50\n",
      " - 31s - loss: 0.0084 - acc: 0.9970\n",
      "Epoch 42/50\n",
      " - 31s - loss: 0.0043 - acc: 0.9982\n",
      "Epoch 43/50\n",
      " - 31s - loss: 0.0028 - acc: 0.9988\n",
      "Epoch 44/50\n",
      " - 32s - loss: 0.0027 - acc: 0.9990\n",
      "Epoch 45/50\n",
      " - 27s - loss: 0.0020 - acc: 0.9988\n",
      "Epoch 46/50\n",
      " - 27s - loss: 0.0019 - acc: 0.9990\n",
      "Epoch 47/50\n",
      " - 29s - loss: 0.0018 - acc: 0.9989\n",
      "Epoch 48/50\n",
      " - 26s - loss: 0.0020 - acc: 0.9988\n",
      "Epoch 49/50\n",
      " - 26s - loss: 0.0016 - acc: 0.9986\n",
      "Epoch 50/50\n",
      " - 28s - loss: 0.0019 - acc: 0.9988\n"
     ]
    }
   ],
   "source": [
    "batch_size = 32\n",
    "history=model.fit(X, Y, epochs =50, batch_size=batch_size, verbose = 2)"
   ]
  },
  {
   "cell_type": "code",
   "execution_count": 21,
   "metadata": {},
   "outputs": [
    {
     "data": {
      "image/png": "[encoded data removed]",
      "text/plain": [
       "<Figure size 432x288 with 1 Axes>"
      ]
     },
     "metadata": {
      "needs_background": "light"
     },
     "output_type": "display_data"
    },
    {
     "data": {
      "image/png": "[encoded data removed]",
      "text/plain": [
       "<Figure size 432x288 with 1 Axes>"
      ]
     },
     "metadata": {
      "needs_background": "light"
     },
     "output_type": "display_data"
    },
    {
     "data": {
      "text/plain": [
       "<Figure size 432x288 with 0 Axes>"
      ]
     },
     "metadata": {},
     "output_type": "display_data"
    }
   ],
   "source": [
    "plt.plot(history.history['acc'])\n",
    "plt.title('model accuracy')\n",
    "plt.ylabel('acc')\n",
    "plt.xlabel('epochs')\n",
    "plt.legend(['train', 'test'], loc='upper left')\n",
    "plt.show()\n",
    "plt.savefig('model_accuracy.png')\n",
    "\n",
    "# summarize history for loss\n",
    "plt.plot(history.history['loss'])\n",
    "#plt.plot(history.history['val_loss'])\n",
    "plt.title('model loss')\n",
    "plt.ylabel('loss')\n",
    "plt.xlabel('epochs')\n",
    "plt.legend(['train', 'test'], loc='upper left')\n",
    "plt.show()\n",
    "plt.savefig('model_loss.png')"
   ]
  },
  {
   "cell_type": "code",
   "execution_count": 22,
   "metadata": {},
   "outputs": [
    {
     "name": "stdout",
     "output_type": "stream",
     "text": [
      "Train: 0.999\n"
     ]
    }
   ],
   "source": [
    "# evaluate the model\n",
    "_, train_acc = model.evaluate(X, Y, verbose=2)\n",
    "# _, test_acc = model.evaluate(X_test, Y_test, verbose=2)\n",
    "print('Train: %.3f' % (train_acc))"
   ]
  },
  {
   "cell_type": "code",
   "execution_count": 23,
   "metadata": {},
   "outputs": [
    {
     "name": "stdout",
     "output_type": "stream",
     "text": [
      "[[1.8207461e-04 9.9978584e-01 3.2044165e-05]\n",
      " [2.7568474e-05 9.9996412e-01 8.2872884e-06]\n",
      " [3.2140164e-07 3.8268166e-08 9.9999964e-01]\n",
      " ...\n",
      " [2.0952470e-04 5.9316444e-05 9.9973112e-01]\n",
      " [3.0190096e-05 7.0596843e-06 9.9996281e-01]\n",
      " [2.1415001e-06 5.2572994e-07 9.9999738e-01]]\n",
      "[1 1 2 ... 2 2 2]\n"
     ]
    }
   ],
   "source": [
    "# predict probabilities for test set\n",
    "yhat_probs = model.predict(X, verbose=0)\n",
    "print(yhat_probs)\n",
    "# predict crisp classes for test set\n",
    "yhat_classes = model.predict_classes(X, verbose=0)\n",
    "print(yhat_classes)\n",
    "# reduce to 1d array\n",
    "#yhat_probs = yhat_probs[:, 0]\n",
    "#yhat_classes = yhat_classes[:, 1"
   ]
  },
  {
   "cell_type": "code",
   "execution_count": 25,
   "metadata": {},
   "outputs": [
    {
     "data": {
      "text/plain": [
       "array([1, 1, 2, ..., 2, 2, 2])"
      ]
     },
     "execution_count": 25,
     "metadata": {},
     "output_type": "execute_result"
    }
   ],
   "source": [
    "import numpy as np\n",
    "rounded_labels=np.argmax(Y, axis=1)\n",
    "rounded_labels"
   ]
  },
  {
   "cell_type": "code",
   "execution_count": 26,
   "metadata": {},
   "outputs": [
    {
     "data": {
      "text/plain": [
       "array([[1359,    4,    0],\n",
       "       [   2, 2877,    0],\n",
       "       [   0,    0,  604]])"
      ]
     },
     "execution_count": 26,
     "metadata": {},
     "output_type": "execute_result"
    }
   ],
   "source": [
    "from sklearn.metrics import confusion_matrix\n",
    "cm = confusion_matrix(rounded_labels, yhat_classes)\n",
    "cm"
   ]
  },
  {
   "cell_type": "code",
   "execution_count": 27,
   "metadata": {},
   "outputs": [
    {
     "data": {
      "image/png": "[encoded data removed]",
      "text/plain": [
       "<Figure size 360x360 with 2 Axes>"
      ]
     },
     "metadata": {
      "needs_background": "light"
     },
     "output_type": "display_data"
    }
   ],
   "source": [
    "from sklearn.metrics import confusion_matrix\n",
    "import seaborn as sns\n",
    "\n",
    "lstm_val = confusion_matrix(rounded_labels, yhat_classes)\n",
    "f, ax = plt.subplots(figsize=(5,5))\n",
    "sns.heatmap(lstm_val, annot=True, linewidth=0.7, linecolor='cyan', fmt='g', ax=ax, cmap=\"BuPu\")\n",
    "plt.title('LSTM Classification Confusion Matrix')\n",
    "plt.xlabel('Y predict')\n",
    "plt.ylabel('Y test')\n",
    "plt.show()"
   ]
  },
  {
   "cell_type": "code",
   "execution_count": 35,
   "metadata": {},
   "outputs": [],
   "source": [
    "# validation_size = 610\n",
    "\n",
    "# X_validate = X_test[-validation_size:]\n",
    "# Y_validate = Y_test[-validation_size:]\n",
    "# X_test = X_test[:-validation_size]\n",
    "# Y_test = Y_test[:-validation_size]\n",
    "# score,acc = model.evaluate(X_test, Y_test, verbose = 1, batch_size = batch_size)\n",
    "\n",
    "# print(\"score: %.2f\" % (score))\n",
    "# print(\"acc: %.2f\" % (acc))"
   ]
  },
  {
   "cell_type": "code",
   "execution_count": 28,
   "metadata": {},
   "outputs": [],
   "source": [
    "model.save('Mymodel.h5')"
   ]
  },
  {
   "cell_type": "code",
   "execution_count": 29,
   "metadata": {},
   "outputs": [],
   "source": [
    "test_original['seq'] = tokenizer.texts_to_sequences(test_original['News Titles'])\n",
    "test_original['padded'] = test_original['seq'].apply(lambda x: pad_sequences([x], maxlen=X.shape[1], dtype='int32', value=0))\n",
    "test_original['pred'] = test_original['padded'].apply(lambda x: model.predict(x))"
   ]
  },
  {
   "cell_type": "code",
   "execution_count": 30,
   "metadata": {},
   "outputs": [
    {
     "data": {
      "text/plain": [
       "0              [[0.149698, 0.837186, 0.013116026]]\n",
       "1          [[0.03617515, 0.94495785, 0.018867027]]\n",
       "2         [[0.003935251, 0.99438727, 0.001677445]]\n",
       "3       [[2.887175e-07, 0.9999995, 1.8791957e-07]]\n",
       "4      [[1.0627945e-05, 4.2272122e-06, 0.9999851]]\n",
       "                          ...                     \n",
       "611     [[0.029375194, 0.97025204, 0.00037275904]]\n",
       "612     [[6.026351e-06, 0.9999883, 5.5669834e-06]]\n",
       "613         [[0.014755661, 0.8685657, 0.11667872]]\n",
       "614         [[0.45050827, 0.49404788, 0.05544385]]\n",
       "615       [[0.96125114, 0.03822637, 0.0005225214]]\n",
       "Name: pred, Length: 616, dtype: object"
      ]
     },
     "execution_count": 30,
     "metadata": {},
     "output_type": "execute_result"
    }
   ],
   "source": [
    "test_original['pred']"
   ]
  },
  {
   "cell_type": "code",
   "execution_count": 31,
   "metadata": {},
   "outputs": [],
   "source": [
    "labels = ['0','1','2']\n",
    "test_original['labels'] = test_original['pred'].apply(lambda x: labels[np.argmax(x)])"
   ]
  },
  {
   "cell_type": "code",
   "execution_count": 32,
   "metadata": {},
   "outputs": [],
   "source": [
    "test_original['flag'] = test_original['labels'].apply(lambda x: 'positive' if x == '0' else ('neutral' if x == '1' else 'negative'))"
   ]
  },
  {
   "cell_type": "code",
   "execution_count": 33,
   "metadata": {},
   "outputs": [
    {
     "data": {
      "text/plain": [
       "1    408\n",
       "2    104\n",
       "0    104\n",
       "Name: labels, dtype: int64"
      ]
     },
     "execution_count": 33,
     "metadata": {},
     "output_type": "execute_result"
    }
   ],
   "source": [
    "test_original['labels'].value_counts()"
   ]
  },
  {
   "cell_type": "code",
   "execution_count": 34,
   "metadata": {},
   "outputs": [],
   "source": [
    "test_original[['News Titles','flag']].to_csv('LSTM_output.csv', index=False)"
   ]
  },
  {
   "cell_type": "code",
   "execution_count": null,
   "metadata": {},
   "outputs": [],
   "source": []
  }
 ],
 "metadata": {
  "kernelspec": {
   "display_name": "Python 3 (ipykernel)",
   "language": "python",
   "name": "python3"
  },
  "language_info": {
   "codemirror_mode": {
    "name": "ipython",
    "version": 3
   },
   "file_extension": ".py",
   "mimetype": "text/x-python",
   "name": "python",
   "nbconvert_exporter": "python",
   "pygments_lexer": "ipython3",
   "version": "3.7.12"
  }
 },
 "nbformat": 4,
 "nbformat_minor": 2
}
