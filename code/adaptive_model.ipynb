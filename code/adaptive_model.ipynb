{
 "cells": [
  {
   "cell_type": "code",
   "execution_count": 5,
   "metadata": {},
   "outputs": [],
   "source": [
    "import os\n",
    "import pandas as pd\n",
    "import statsmodels.formula.api as smf\n",
    "import spacy\n",
    "import contractions\n",
    "from time import time\n",
    "import re\n",
    "from sklearn.model_selection import train_test_split \n",
    "from sklearn.feature_extraction.text import CountVectorizer\n",
    "from sklearn.naive_bayes import MultinomialNB\n",
    "from sklearn import metrics\n",
    "from sklearn.linear_model import LogisticRegression"
   ]
  },
  {
   "cell_type": "code",
   "execution_count": 3,
   "metadata": {},
   "outputs": [],
   "source": [
    "data = pd.read_csv('all-data.csv',delimiter=',',encoding='latin-1',header=None)\n",
    "test_original = pd.read_csv('titles_yahoo_financial_616.csv',encoding='UTF-8')"
   ]
  },
  {
   "cell_type": "code",
   "execution_count": 4,
   "metadata": {},
   "outputs": [],
   "source": [
    "data.columns = ['Sentiment','News Titles']"
   ]
  },
  {
   "cell_type": "code",
   "execution_count": 32,
   "metadata": {},
   "outputs": [
    {
     "name": "stdout",
     "output_type": "stream",
     "text": [
      "Time to clean up everything: 0.12 mins\n"
     ]
    }
   ],
   "source": [
    "t = time()\n",
    "\n",
    "def breif_cleanning(text):\n",
    "    \n",
    "    #undo contraction\n",
    "    text=contractions.fix(text)\n",
    "    \n",
    "    # remove <br />\n",
    "    text=text.replace('<br />','')    \n",
    "    \n",
    "    # remove punctuations\n",
    "    text=re.sub(\"[^A-Za-z]+\", ' ', text)\n",
    "    \n",
    "    return text.lower()\n",
    "    \n",
    "\n",
    "data['cleaned_headlines']=data['News Titles'].apply(breif_cleanning)  \n",
    "test_original['cleaned_headlines']=test_original['News Titles'].apply(breif_cleanning)  \n",
    "\n",
    "# disabling Named Entity Recognition for speed\n",
    "nlp = spacy.load('en_core_web_sm', disable=['ner', 'parser']) \n",
    "# Lemmatizes and removes stopwords\n",
    "# doc needs to be a spacy Doc object\n",
    "\n",
    "def cleaning(doc):    \n",
    "    \n",
    "    txt = [token.lemma_ for token in doc if not token.is_stop]\n",
    "    # if a sentence is only one or two words long,\n",
    "    # the benefit for the training is very small\n",
    "    return ' '.join(txt)\n",
    "\n",
    "#txt= [cleaning(doc) for doc in nlp.pipe(data['cleaned_reviews'], batch_size=2500, n_process=4)]\n",
    "txt= [cleaning(doc) for doc in nlp.pipe(data['cleaned_headlines'], n_process=1)]\n",
    "data['cleaned_headlines'] = pd.DataFrame(txt)\n",
    "txt= [cleaning(doc) for doc in nlp.pipe(test_original['cleaned_headlines'], n_process=1)]\n",
    "test_original['cleaned_headlines'] = pd.DataFrame(txt)\n",
    "print('Time to clean up everything: {} mins'.format(round((time() - t) / 60, 2)))"
   ]
  },
  {
   "cell_type": "code",
   "execution_count": 33,
   "metadata": {},
   "outputs": [],
   "source": [
    "data = data.dropna(subset=['cleaned_headlines'])\n",
    "test_original = test_original.dropna(subset=['cleaned_headlines'])"
   ]
  },
  {
   "cell_type": "code",
   "execution_count": 47,
   "metadata": {},
   "outputs": [],
   "source": [
    "vectorizer = CountVectorizer()\n",
    "X_all = vectorizer.fit_transform(data['cleaned_headlines'])\n",
    "X_test_all = vectorizer.transform(test_original['cleaned_headlines'])"
   ]
  },
  {
   "cell_type": "code",
   "execution_count": 48,
   "metadata": {},
   "outputs": [],
   "source": [
    "data_pos_neg = data[(data['Sentiment'] == 'positive')|(data['Sentiment'] == 'negative')]\n",
    "data_pos_neu = data[(data['Sentiment'] == 'positive')|(data['Sentiment'] == 'neutral')]\n",
    "data_neg_neu = data[(data['Sentiment'] == 'neutral')|(data['Sentiment'] == 'negative')]"
   ]
  },
  {
   "cell_type": "markdown",
   "metadata": {},
   "source": [
    "## Positive VS Negative"
   ]
  },
  {
   "cell_type": "code",
   "execution_count": 49,
   "metadata": {},
   "outputs": [],
   "source": [
    "X = vectorizer.transform(data_pos_neg['cleaned_headlines'])\n",
    "y = (data_pos_neg['Sentiment']=='positive').astype(int)"
   ]
  },
  {
   "cell_type": "code",
   "execution_count": 50,
   "metadata": {},
   "outputs": [
    {
     "name": "stdout",
     "output_type": "stream",
     "text": [
      "0.8191056910569106\n"
     ]
    }
   ],
   "source": [
    "X_train,X_test,y_train,y_test=train_test_split(X,y,test_size=0.25,random_state=2)\n",
    "log_model = LogisticRegression()\n",
    "results = log_model.fit(X=X_train, y=y_train)\n",
    "\n",
    "#using the model to predict testing data\n",
    "y_pred = results.predict(X_test)\n",
    "score_lr = metrics.accuracy_score(y_test, y_pred)\n",
    "print(score_lr)"
   ]
  },
  {
   "cell_type": "code",
   "execution_count": 53,
   "metadata": {},
   "outputs": [],
   "source": [
    "data['flag_pos_neg_lr'] = results.predict(X_all)\n",
    "data['flag_pos_neg_lr'] = data['flag_pos_neg_lr'].apply(lambda x: 'positive' if x == 1 else 'negative')\n",
    "test_original['flag_pos_neg_lr'] = results.predict(X_test_all)\n",
    "test_original['flag_pos_neg_lr'] = test_original['flag_pos_neg_lr'].apply(lambda x: 'positive' if x == 1 else 'negative')"
   ]
  },
  {
   "cell_type": "code",
   "execution_count": 54,
   "metadata": {},
   "outputs": [
    {
     "name": "stdout",
     "output_type": "stream",
     "text": [
      "[5544 2955 2612 2932 4960]\n",
      "['rise' 'increase' 'grow' 'improve' 'positive']\n",
      "['decrease' 'fall' 'drop' 'decline' 'low']\n"
     ]
    }
   ],
   "source": [
    "#get n words associated with largest coefficeints\n",
    "n=5\n",
    "#argsort sort the list, - to sort from max to min (get the top n words with largest weight)\n",
    "max_index=(-results.coef_[0]).argsort()[:n]\n",
    "print(max_index)\n",
    "print(vectorizer.get_feature_names_out()[max_index])\n",
    "# (get the top n words with smallest weight)\n",
    "min_index=(results.coef_[0]).argsort()[:n]\n",
    "print(vectorizer.get_feature_names_out()[min_index])"
   ]
  },
  {
   "cell_type": "code",
   "execution_count": 55,
   "metadata": {},
   "outputs": [
    {
     "name": "stdout",
     "output_type": "stream",
     "text": [
      "0.7987804878048781\n"
     ]
    }
   ],
   "source": [
    "nb_classifier=MultinomialNB()\n",
    "nb_classifier.fit(X_train, y_train)\n",
    "pred = nb_classifier.predict(X_test)\n",
    "score_nb = metrics.accuracy_score(y_test, pred)\n",
    "print(score_nb)"
   ]
  },
  {
   "cell_type": "code",
   "execution_count": 56,
   "metadata": {},
   "outputs": [],
   "source": [
    "data['flag_pos_neg_nb'] = nb_classifier.predict(X_all)\n",
    "data['flag_pos_neg_nb'] = data['flag_pos_neg_nb'].apply(lambda x: 'positive' if x == 1 else 'negative')\n",
    "test_original['flag_pos_neg_nb'] = nb_classifier.predict(X_test_all)\n",
    "test_original['flag_pos_neg_nb'] = test_original['flag_pos_neg_nb'].apply(lambda x: 'positive' if x == 1 else 'negative')"
   ]
  },
  {
   "cell_type": "code",
   "execution_count": 57,
   "metadata": {},
   "outputs": [
    {
     "name": "stdout",
     "output_type": "stream",
     "text": [
      "0.8089430894308943\n"
     ]
    }
   ],
   "source": [
    "from sklearn import svm\n",
    "SVM = svm.SVC(C=1.0, kernel='linear', degree=3, gamma='auto')  \n",
    "SVM.fit(X_train, y_train)\n",
    "# predict the labels on validation dataset\n",
    "predictions_SVM = SVM.predict(X_test)\n",
    "score_svm=metrics.accuracy_score(y_test, predictions_SVM)\n",
    "print(score_svm)"
   ]
  },
  {
   "cell_type": "code",
   "execution_count": 58,
   "metadata": {},
   "outputs": [],
   "source": [
    "data['flag_pos_neg_svm'] = SVM.predict(X_all)\n",
    "data['flag_pos_neg_svm'] = data['flag_pos_neg_svm'].apply(lambda x: 'positive' if x == 1 else 'negative')\n",
    "test_original['flag_pos_neg_svm'] = SVM.predict(X_test_all)\n",
    "test_original['flag_pos_neg_svm'] = test_original['flag_pos_neg_svm'].apply(lambda x: 'positive' if x == 1 else 'negative')"
   ]
  },
  {
   "cell_type": "markdown",
   "metadata": {},
   "source": [
    "## Positive VS Neutral"
   ]
  },
  {
   "cell_type": "code",
   "execution_count": 60,
   "metadata": {},
   "outputs": [],
   "source": [
    "X = vectorizer.transform(data_pos_neu['cleaned_headlines'])\n",
    "y = (data_pos_neu['Sentiment']=='positive').astype(int)"
   ]
  },
  {
   "cell_type": "code",
   "execution_count": 61,
   "metadata": {},
   "outputs": [
    {
     "name": "stdout",
     "output_type": "stream",
     "text": [
      "0.8152686145146089\n"
     ]
    }
   ],
   "source": [
    "X_train,X_test,y_train,y_test=train_test_split(X,y,test_size=0.25,random_state=2)\n",
    "log_model = LogisticRegression()\n",
    "results = log_model.fit(X=X_train, y=y_train)\n",
    "\n",
    "#using the model to predict testing data\n",
    "y_pred = results.predict(X_test)\n",
    "score_lr = metrics.accuracy_score(y_test, y_pred)\n",
    "print(score_lr)"
   ]
  },
  {
   "cell_type": "code",
   "execution_count": 62,
   "metadata": {},
   "outputs": [],
   "source": [
    "data['flag_pos_neu_lr'] = results.predict(X_all)\n",
    "data['flag_pos_neu_lr'] = data['flag_pos_neu_lr'].apply(lambda x: 'positive' if x == 1 else 'neutral')\n",
    "test_original['flag_pos_neu_lr'] = results.predict(X_test_all)\n",
    "test_original['flag_pos_neu_lr'] = test_original['flag_pos_neu_lr'].apply(lambda x: 'positive' if x == 1 else 'neutral')"
   ]
  },
  {
   "cell_type": "code",
   "execution_count": 63,
   "metadata": {},
   "outputs": [
    {
     "name": "stdout",
     "output_type": "stream",
     "text": [
      "[5544 2955 2932  482 7292]\n",
      "['rise' 'increase' 'improve' 'award' 'win']\n",
      "['include' 'electricity' 'disclose' 'range' 'approximately']\n"
     ]
    }
   ],
   "source": [
    "#get n words associated with largest coefficeints\n",
    "n=5\n",
    "#argsort sort the list, - to sort from max to min (get the top n words with largest weight)\n",
    "max_index=(-results.coef_[0]).argsort()[:n]\n",
    "print(max_index)\n",
    "print(vectorizer.get_feature_names_out()[max_index])\n",
    "# (get the top n words with smallest weight)\n",
    "min_index=(results.coef_[0]).argsort()[:n]\n",
    "print(vectorizer.get_feature_names_out()[min_index])"
   ]
  },
  {
   "cell_type": "code",
   "execution_count": 64,
   "metadata": {},
   "outputs": [
    {
     "name": "stdout",
     "output_type": "stream",
     "text": [
      "0.7483506126295947\n"
     ]
    }
   ],
   "source": [
    "nb_classifier=MultinomialNB()\n",
    "nb_classifier.fit(X_train, y_train)\n",
    "pred = nb_classifier.predict(X_test)\n",
    "score_nb = metrics.accuracy_score(y_test, pred)\n",
    "print(score_nb)"
   ]
  },
  {
   "cell_type": "code",
   "execution_count": 65,
   "metadata": {},
   "outputs": [],
   "source": [
    "data['flag_pos_neu_nb'] = nb_classifier.predict(X_all)\n",
    "data['flag_pos_neu_nb'] = data['flag_pos_neu_nb'].apply(lambda x: 'positive' if x == 1 else 'neutral')\n",
    "test_original['flag_pos_neu_nb'] = nb_classifier.predict(X_test_all)\n",
    "test_original['flag_pos_neu_nb'] = test_original['flag_pos_neu_nb'].apply(lambda x: 'positive' if x == 1 else 'neutral')"
   ]
  },
  {
   "cell_type": "code",
   "execution_count": 66,
   "metadata": {},
   "outputs": [
    {
     "name": "stdout",
     "output_type": "stream",
     "text": [
      "0.7728557964184731\n"
     ]
    }
   ],
   "source": [
    "from sklearn import svm\n",
    "SVM = svm.SVC(C=1.0, kernel='linear', degree=3, gamma='auto')  \n",
    "SVM.fit(X_train, y_train)\n",
    "# predict the labels on validation dataset\n",
    "predictions_SVM = SVM.predict(X_test)\n",
    "score_svm=metrics.accuracy_score(y_test, predictions_SVM)\n",
    "print(score_svm)"
   ]
  },
  {
   "cell_type": "code",
   "execution_count": 67,
   "metadata": {},
   "outputs": [],
   "source": [
    "data['flag_pos_neu_svm'] = SVM.predict(X_all)\n",
    "data['flag_pos_neu_svm'] = data['flag_pos_neu_svm'].apply(lambda x: 'positive' if x == 1 else 'neutral')\n",
    "test_original['flag_pos_neu_svm'] = SVM.predict(X_test_all)\n",
    "test_original['flag_pos_neu_svm'] = test_original['flag_pos_neu_svm'].apply(lambda x: 'positive' if x == 1 else 'neutral')"
   ]
  },
  {
   "cell_type": "markdown",
   "metadata": {},
   "source": [
    "## Negative VS Neutral"
   ]
  },
  {
   "cell_type": "code",
   "execution_count": 68,
   "metadata": {},
   "outputs": [],
   "source": [
    "X = vectorizer.transform(data_neg_neu['cleaned_headlines'])\n",
    "y = (data_neg_neu['Sentiment']=='negative').astype(int)"
   ]
  },
  {
   "cell_type": "code",
   "execution_count": 69,
   "metadata": {},
   "outputs": [
    {
     "name": "stdout",
     "output_type": "stream",
     "text": [
      "0.9035591274397244\n"
     ]
    }
   ],
   "source": [
    "X_train,X_test,y_train,y_test=train_test_split(X,y,test_size=0.25,random_state=2)\n",
    "log_model = LogisticRegression()\n",
    "results = log_model.fit(X=X_train, y=y_train)\n",
    "\n",
    "#using the model to predict testing data\n",
    "y_pred = results.predict(X_test)\n",
    "score_lr = metrics.accuracy_score(y_test, y_pred)\n",
    "print(score_lr)"
   ]
  },
  {
   "cell_type": "code",
   "execution_count": 70,
   "metadata": {},
   "outputs": [],
   "source": [
    "data['flag_neg_neu_lr'] = results.predict(X_all)\n",
    "data['flag_neg_neu_lr'] = data['flag_neg_neu_lr'].apply(lambda x: 'negative' if x == 1 else 'neutral')\n",
    "test_original['flag_neg_neu_lr'] = results.predict(X_test_all)\n",
    "test_original['flag_neg_neu_lr'] = test_original['flag_neg_neu_lr'].apply(lambda x: 'negative' if x == 1 else 'neutral')"
   ]
  },
  {
   "cell_type": "code",
   "execution_count": 71,
   "metadata": {},
   "outputs": [
    {
     "name": "stdout",
     "output_type": "stream",
     "text": [
      "[1530 2172 4269 1789 3729]\n",
      "['decrease' 'fall' 'negative' 'drop' 'loss']\n",
      "['include' 'value' 'new' 'headquarter' 'approximately']\n"
     ]
    }
   ],
   "source": [
    "#get n words associated with largest coefficeints\n",
    "n=5\n",
    "#argsort sort the list, - to sort from max to min (get the top n words with largest weight)\n",
    "max_index=(-results.coef_[0]).argsort()[:n]\n",
    "print(max_index)\n",
    "print(vectorizer.get_feature_names_out()[max_index])\n",
    "# (get the top n words with smallest weight)\n",
    "min_index=(results.coef_[0]).argsort()[:n]\n",
    "print(vectorizer.get_feature_names_out()[min_index])"
   ]
  },
  {
   "cell_type": "code",
   "execution_count": 72,
   "metadata": {},
   "outputs": [
    {
     "name": "stdout",
     "output_type": "stream",
     "text": [
      "0.8760045924225028\n"
     ]
    }
   ],
   "source": [
    "nb_classifier=MultinomialNB()\n",
    "nb_classifier.fit(X_train, y_train)\n",
    "pred = nb_classifier.predict(X_test)\n",
    "score_nb = metrics.accuracy_score(y_test, pred)\n",
    "print(score_nb)"
   ]
  },
  {
   "cell_type": "code",
   "execution_count": 73,
   "metadata": {},
   "outputs": [],
   "source": [
    "data['flag_neg_neu_nb'] = nb_classifier.predict(X_all)\n",
    "data['flag_neg_neu_nb'] = data['flag_neg_neu_nb'].apply(lambda x: 'negative' if x == 1 else 'neutral')\n",
    "test_original['flag_neg_neu_nb'] = nb_classifier.predict(X_test_all)\n",
    "test_original['flag_neg_neu_nb'] = test_original['flag_neg_neu_nb'].apply(lambda x: 'negative' if x == 1 else 'neutral')"
   ]
  },
  {
   "cell_type": "code",
   "execution_count": 74,
   "metadata": {},
   "outputs": [
    {
     "name": "stdout",
     "output_type": "stream",
     "text": [
      "0.894374282433984\n"
     ]
    }
   ],
   "source": [
    "from sklearn import svm\n",
    "SVM = svm.SVC(C=1.0, kernel='linear', degree=3, gamma='auto')  \n",
    "SVM.fit(X_train, y_train)\n",
    "# predict the labels on validation dataset\n",
    "predictions_SVM = SVM.predict(X_test)\n",
    "score_svm=metrics.accuracy_score(y_test, predictions_SVM)\n",
    "print(score_svm)"
   ]
  },
  {
   "cell_type": "code",
   "execution_count": 75,
   "metadata": {},
   "outputs": [],
   "source": [
    "data['flag_neg_neu_svm'] = SVM.predict(X_all)\n",
    "data['flag_neg_neu_svm'] = data['flag_neg_neu_svm'].apply(lambda x: 'negative' if x == 1 else 'neutral')\n",
    "test_original['flag_neg_neu_svm'] = SVM.predict(X_test_all)\n",
    "test_original['flag_neg_neu_svm'] = test_original['flag_neg_neu_svm'].apply(lambda x: 'negative' if x == 1 else 'neutral')"
   ]
  },
  {
   "cell_type": "markdown",
   "metadata": {},
   "source": [
    "## Performance"
   ]
  },
  {
   "cell_type": "code",
   "execution_count": 79,
   "metadata": {},
   "outputs": [],
   "source": [
    "data['flag_lr'] = data[['flag_pos_neg_lr', 'flag_pos_neu_lr', 'flag_neg_neu_lr']].mode(axis=1)[0]\n",
    "data['flag_nb'] = data[['flag_pos_neg_nb', 'flag_pos_neu_nb', 'flag_neg_neu_nb']].mode(axis=1)[0]\n",
    "data['flag_svm'] = data[['flag_pos_neg_svm', 'flag_pos_neu_svm', 'flag_neg_neu_svm']].mode(axis=1)[0]"
   ]
  },
  {
   "cell_type": "code",
   "execution_count": 86,
   "metadata": {},
   "outputs": [
    {
     "data": {
      "image/png": "[encoded data removed]",
      "text/plain": [
       "<Figure size 360x360 with 2 Axes>"
      ]
     },
     "metadata": {
      "needs_background": "light"
     },
     "output_type": "display_data"
    }
   ],
   "source": [
    "from matplotlib import pyplot as plt\n",
    "from sklearn.metrics import confusion_matrix\n",
    "import seaborn as sns\n",
    "\n",
    "cm = confusion_matrix(data['flag_lr'], data['Sentiment'])\n",
    "f, ax = plt.subplots(figsize=(5, 5))\n",
    "\n",
    "# 绘制混淆矩阵的热图\n",
    "sns.heatmap(cm, annot=True, linewidth=0.7, linecolor='cyan', fmt='g', ax=ax, cmap=\"BuPu\",\n",
    "            xticklabels=['negative', 'neutral', 'positive'],  # 设置 X 轴标签\n",
    "            yticklabels=['negative', 'neutral', 'positive'])  # 设置 Y 轴标签\n",
    "\n",
    "# 设置图形的标题和轴标签\n",
    "plt.title('Classification Confusion Matrix')\n",
    "plt.xlabel('Predicted Label')\n",
    "plt.ylabel('True Label')\n",
    "\n",
    "# 显示图形\n",
    "plt.show()"
   ]
  },
  {
   "cell_type": "code",
   "execution_count": 94,
   "metadata": {},
   "outputs": [
    {
     "name": "stdout",
     "output_type": "stream",
     "text": [
      "Accuracy: 0.8959966983078828\n"
     ]
    }
   ],
   "source": [
    "# 假设 data 是您的 DataFrame，并且已经包含了 'flag_lr' 和 'Sentiment' 列\n",
    "# 计算准确率\n",
    "accuracy = metrics.accuracy_score(data['flag_lr'], data['Sentiment'])\n",
    "print(\"Accuracy:\", accuracy)"
   ]
  },
  {
   "cell_type": "code",
   "execution_count": 92,
   "metadata": {},
   "outputs": [
    {
     "data": {
      "image/png": "[encoded data removed]",
      "text/plain": [
       "<Figure size 360x360 with 2 Axes>"
      ]
     },
     "metadata": {
      "needs_background": "light"
     },
     "output_type": "display_data"
    }
   ],
   "source": [
    "from matplotlib import pyplot as plt\n",
    "from sklearn.metrics import confusion_matrix\n",
    "import seaborn as sns\n",
    "\n",
    "cm = confusion_matrix(data['flag_nb'], data['Sentiment'])\n",
    "f, ax = plt.subplots(figsize=(5, 5))\n",
    "\n",
    "# 绘制混淆矩阵的热图\n",
    "sns.heatmap(cm, annot=True, linewidth=0.7, linecolor='cyan', fmt='g', ax=ax, cmap=\"BuPu\",\n",
    "            xticklabels=['negative', 'neutral', 'positive'],  # 设置 X 轴标签\n",
    "            yticklabels=['negative', 'neutral', 'positive'])  # 设置 Y 轴标签\n",
    "\n",
    "# 设置图形的标题和轴标签\n",
    "plt.title('Classification Confusion Matrix')\n",
    "plt.xlabel('Predicted Label')\n",
    "plt.ylabel('True Label')\n",
    "\n",
    "# 显示图形\n",
    "plt.show()"
   ]
  },
  {
   "cell_type": "code",
   "execution_count": 95,
   "metadata": {},
   "outputs": [
    {
     "name": "stdout",
     "output_type": "stream",
     "text": [
      "Accuracy: 0.8122162608336773\n"
     ]
    }
   ],
   "source": [
    "accuracy = metrics.accuracy_score(data['flag_nb'], data['Sentiment'])\n",
    "print(\"Accuracy:\", accuracy)"
   ]
  },
  {
   "cell_type": "code",
   "execution_count": 93,
   "metadata": {},
   "outputs": [
    {
     "data": {
      "image/png": "[encoded data removed]",
      "text/plain": [
       "<Figure size 360x360 with 2 Axes>"
      ]
     },
     "metadata": {
      "needs_background": "light"
     },
     "output_type": "display_data"
    }
   ],
   "source": [
    "from matplotlib import pyplot as plt\n",
    "from sklearn.metrics import confusion_matrix\n",
    "import seaborn as sns\n",
    "\n",
    "cm = confusion_matrix(data['flag_svm'], data['Sentiment'])\n",
    "f, ax = plt.subplots(figsize=(5, 5))\n",
    "\n",
    "# 绘制混淆矩阵的热图\n",
    "sns.heatmap(cm, annot=True, linewidth=0.7, linecolor='cyan', fmt='g', ax=ax, cmap=\"BuPu\",\n",
    "            xticklabels=['negative', 'neutral', 'positive'],  # 设置 X 轴标签\n",
    "            yticklabels=['negative', 'neutral', 'positive'])  # 设置 Y 轴标签\n",
    "\n",
    "# 设置图形的标题和轴标签\n",
    "plt.title('Classification Confusion Matrix')\n",
    "plt.xlabel('Predicted Label')\n",
    "plt.ylabel('True Label')\n",
    "\n",
    "# 显示图形\n",
    "plt.show()"
   ]
  },
  {
   "cell_type": "code",
   "execution_count": 96,
   "metadata": {},
   "outputs": [
    {
     "name": "stdout",
     "output_type": "stream",
     "text": [
      "Accuracy: 0.9085843995047462\n"
     ]
    }
   ],
   "source": [
    "accuracy = metrics.accuracy_score(data['flag_svm'], data['Sentiment'])\n",
    "print(\"Accuracy:\", accuracy)"
   ]
  },
  {
   "cell_type": "code",
   "execution_count": 87,
   "metadata": {},
   "outputs": [],
   "source": [
    "test_original['flag_lr'] = test_original[['flag_pos_neg_lr', 'flag_pos_neu_lr', 'flag_neg_neu_lr']].mode(axis=1)[0]\n",
    "test_original['flag_nb'] = test_original[['flag_pos_neg_nb', 'flag_pos_neu_nb', 'flag_neg_neu_nb']].mode(axis=1)[0]\n",
    "test_original['flag_svm'] = test_original[['flag_pos_neg_svm', 'flag_pos_neu_svm', 'flag_neg_neu_svm']].mode(axis=1)[0]"
   ]
  },
  {
   "cell_type": "code",
   "execution_count": 91,
   "metadata": {},
   "outputs": [
    {
     "data": {
      "text/plain": [
       "neutral     398\n",
       "positive    124\n",
       "negative     94\n",
       "Name: flag_svm, dtype: int64"
      ]
     },
     "execution_count": 91,
     "metadata": {},
     "output_type": "execute_result"
    }
   ],
   "source": [
    "test_original['flag_svm'].value_counts()"
   ]
  },
  {
   "cell_type": "code",
   "execution_count": 97,
   "metadata": {},
   "outputs": [],
   "source": [
    "test_original[['News Titles','flag_svm']].to_csv('SVM_output.csv', index=False)"
   ]
  },
  {
   "cell_type": "code",
   "execution_count": null,
   "metadata": {},
   "outputs": [],
   "source": []
  }
 ],
 "metadata": {
  "kernelspec": {
   "display_name": "python37",
   "language": "python",
   "name": "python3"
  },
  "language_info": {
   "codemirror_mode": {
    "name": "ipython",
    "version": 3
   },
   "file_extension": ".py",
   "mimetype": "text/x-python",
   "name": "python",
   "nbconvert_exporter": "python",
   "pygments_lexer": "ipython3",
   "version": "3.7.12"
  }
 },
 "nbformat": 4,
 "nbformat_minor": 2
}
